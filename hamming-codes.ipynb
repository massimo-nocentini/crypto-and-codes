{
 "cells": [
  {
   "cell_type": "code",
   "execution_count": 40,
   "metadata": {
    "collapsed": false
   },
   "outputs": [],
   "source": [
    "from sympy import *\n",
    "from sympy.ntheory import legendre_symbol\n",
    "from sympy.matrices import Matrix, zeros\n",
    "\n",
    "import itertools\n",
    "\n",
    "init_printing()"
   ]
  },
  {
   "cell_type": "code",
   "execution_count": 18,
   "metadata": {
    "collapsed": false
   },
   "outputs": [
    {
     "data": {
      "image/png": "[encoded data removed]",
      "text/latex": [
       "$$\\left[\\begin{matrix}0 & 0 & 0 & 1 & 1 & 1 & 1\\\\0 & 1 & 1 & 0 & 0 & 1 & 1\\\\1 & 0 & 1 & 0 & 1 & 0 & 1\\end{matrix}\\right]$$"
      ],
      "text/plain": [
       "⎡0  0  0  1  1  1  1⎤\n",
       "⎢                   ⎥\n",
       "⎢0  1  1  0  0  1  1⎥\n",
       "⎢                   ⎥\n",
       "⎣1  0  1  0  1  0  1⎦"
      ]
     },
     "execution_count": 18,
     "metadata": {},
     "output_type": "execute_result"
    }
   ],
   "source": [
    "H = Matrix([\n",
    "        [0, 0, 0, 1, 1, 1, 1,],\n",
    "        [0, 1, 1, 0, 0, 1, 1,],\n",
    "        [1, 0, 1, 0, 1, 0, 1,]\n",
    "    ])\n",
    "\n",
    "H"
   ]
  },
  {
   "cell_type": "code",
   "execution_count": 35,
   "metadata": {
    "collapsed": false
   },
   "outputs": [
    {
     "data": {
      "image/png": "[encoded data removed]",
      "text/latex": [
       "$$\\left [ \\left[\\begin{matrix}1\\\\1\\\\1\\\\0\\\\0\\\\0\\\\0\\end{matrix}\\right], \\quad \\left[\\begin{matrix}1\\\\0\\\\0\\\\1\\\\1\\\\0\\\\0\\end{matrix}\\right], \\quad \\left[\\begin{matrix}0\\\\1\\\\0\\\\1\\\\0\\\\1\\\\0\\end{matrix}\\right], \\quad \\left[\\begin{matrix}1\\\\1\\\\0\\\\1\\\\0\\\\0\\\\1\\end{matrix}\\right]\\right ]$$"
      ],
      "text/plain": [
       "⎡⎡1⎤, ⎡1⎤, ⎡0⎤, ⎡1⎤⎤\n",
       "⎢⎢ ⎥  ⎢ ⎥  ⎢ ⎥  ⎢ ⎥⎥\n",
       "⎢⎢1⎥  ⎢0⎥  ⎢1⎥  ⎢1⎥⎥\n",
       "⎢⎢ ⎥  ⎢ ⎥  ⎢ ⎥  ⎢ ⎥⎥\n",
       "⎢⎢1⎥  ⎢0⎥  ⎢0⎥  ⎢0⎥⎥\n",
       "⎢⎢ ⎥  ⎢ ⎥  ⎢ ⎥  ⎢ ⎥⎥\n",
       "⎢⎢0⎥  ⎢1⎥  ⎢1⎥  ⎢1⎥⎥\n",
       "⎢⎢ ⎥  ⎢ ⎥  ⎢ ⎥  ⎢ ⎥⎥\n",
       "⎢⎢0⎥  ⎢1⎥  ⎢0⎥  ⎢0⎥⎥\n",
       "⎢⎢ ⎥  ⎢ ⎥  ⎢ ⎥  ⎢ ⎥⎥\n",
       "⎢⎢0⎥  ⎢0⎥  ⎢1⎥  ⎢0⎥⎥\n",
       "⎢⎢ ⎥  ⎢ ⎥  ⎢ ⎥  ⎢ ⎥⎥\n",
       "⎣⎣0⎦  ⎣0⎦  ⎣0⎦  ⎣1⎦⎦"
      ]
     },
     "execution_count": 35,
     "metadata": {},
     "output_type": "execute_result"
    }
   ],
   "source": [
    "ns = [x.applyfunc(lambda i: i%2) for x in H.nullspace()]\n",
    "ns"
   ]
  },
  {
   "cell_type": "code",
   "execution_count": 42,
   "metadata": {
    "collapsed": false
   },
   "outputs": [
    {
     "data": {
      "image/png": "[encoded data removed]",
      "text/latex": [
       "$$\\left [ \\left[\\begin{matrix}0\\\\0\\\\0\\\\0\\\\0\\\\0\\\\0\\end{matrix}\\right], \\quad \\left[\\begin{matrix}1\\\\1\\\\0\\\\1\\\\0\\\\0\\\\1\\end{matrix}\\right], \\quad \\left[\\begin{matrix}0\\\\1\\\\0\\\\1\\\\0\\\\1\\\\0\\end{matrix}\\right], \\quad \\left[\\begin{matrix}1\\\\0\\\\0\\\\0\\\\0\\\\1\\\\1\\end{matrix}\\right], \\quad \\left[\\begin{matrix}1\\\\0\\\\0\\\\1\\\\1\\\\0\\\\0\\end{matrix}\\right], \\quad \\left[\\begin{matrix}0\\\\1\\\\0\\\\0\\\\1\\\\0\\\\1\\end{matrix}\\right], \\quad \\left[\\begin{matrix}1\\\\1\\\\0\\\\0\\\\1\\\\1\\\\0\\end{matrix}\\right], \\quad \\left[\\begin{matrix}0\\\\0\\\\0\\\\1\\\\1\\\\1\\\\1\\end{matrix}\\right], \\quad \\left[\\begin{matrix}1\\\\1\\\\1\\\\0\\\\0\\\\0\\\\0\\end{matrix}\\right], \\quad \\left[\\begin{matrix}0\\\\0\\\\1\\\\1\\\\0\\\\0\\\\1\\end{matrix}\\right], \\quad \\left[\\begin{matrix}1\\\\0\\\\1\\\\1\\\\0\\\\1\\\\0\\end{matrix}\\right], \\quad \\left[\\begin{matrix}0\\\\1\\\\1\\\\0\\\\0\\\\1\\\\1\\end{matrix}\\right], \\quad \\left[\\begin{matrix}0\\\\1\\\\1\\\\1\\\\1\\\\0\\\\0\\end{matrix}\\right], \\quad \\left[\\begin{matrix}1\\\\0\\\\1\\\\0\\\\1\\\\0\\\\1\\end{matrix}\\right], \\quad \\left[\\begin{matrix}0\\\\0\\\\1\\\\0\\\\1\\\\1\\\\0\\end{matrix}\\right], \\quad \\left[\\begin{matrix}1\\\\1\\\\1\\\\1\\\\1\\\\1\\\\1\\end{matrix}\\right]\\right ]$$"
      ],
      "text/plain": [
       "⎡⎡0⎤, ⎡1⎤, ⎡0⎤, ⎡1⎤, ⎡1⎤, ⎡0⎤, ⎡1⎤, ⎡0⎤, ⎡1⎤, ⎡0⎤, ⎡1⎤, ⎡0⎤, ⎡0⎤, ⎡1⎤, ⎡0⎤, ⎡1\n",
       "⎢⎢ ⎥  ⎢ ⎥  ⎢ ⎥  ⎢ ⎥  ⎢ ⎥  ⎢ ⎥  ⎢ ⎥  ⎢ ⎥  ⎢ ⎥  ⎢ ⎥  ⎢ ⎥  ⎢ ⎥  ⎢ ⎥  ⎢ ⎥  ⎢ ⎥  ⎢ \n",
       "⎢⎢0⎥  ⎢1⎥  ⎢1⎥  ⎢0⎥  ⎢0⎥  ⎢1⎥  ⎢1⎥  ⎢0⎥  ⎢1⎥  ⎢0⎥  ⎢0⎥  ⎢1⎥  ⎢1⎥  ⎢0⎥  ⎢0⎥  ⎢1\n",
       "⎢⎢ ⎥  ⎢ ⎥  ⎢ ⎥  ⎢ ⎥  ⎢ ⎥  ⎢ ⎥  ⎢ ⎥  ⎢ ⎥  ⎢ ⎥  ⎢ ⎥  ⎢ ⎥  ⎢ ⎥  ⎢ ⎥  ⎢ ⎥  ⎢ ⎥  ⎢ \n",
       "⎢⎢0⎥  ⎢0⎥  ⎢0⎥  ⎢0⎥  ⎢0⎥  ⎢0⎥  ⎢0⎥  ⎢0⎥  ⎢1⎥  ⎢1⎥  ⎢1⎥  ⎢1⎥  ⎢1⎥  ⎢1⎥  ⎢1⎥  ⎢1\n",
       "⎢⎢ ⎥  ⎢ ⎥  ⎢ ⎥  ⎢ ⎥  ⎢ ⎥  ⎢ ⎥  ⎢ ⎥  ⎢ ⎥  ⎢ ⎥  ⎢ ⎥  ⎢ ⎥  ⎢ ⎥  ⎢ ⎥  ⎢ ⎥  ⎢ ⎥  ⎢ \n",
       "⎢⎢0⎥  ⎢1⎥  ⎢1⎥  ⎢0⎥  ⎢1⎥  ⎢0⎥  ⎢0⎥  ⎢1⎥  ⎢0⎥  ⎢1⎥  ⎢1⎥  ⎢0⎥  ⎢1⎥  ⎢0⎥  ⎢0⎥  ⎢1\n",
       "⎢⎢ ⎥  ⎢ ⎥  ⎢ ⎥  ⎢ ⎥  ⎢ ⎥  ⎢ ⎥  ⎢ ⎥  ⎢ ⎥  ⎢ ⎥  ⎢ ⎥  ⎢ ⎥  ⎢ ⎥  ⎢ ⎥  ⎢ ⎥  ⎢ ⎥  ⎢ \n",
       "⎢⎢0⎥  ⎢0⎥  ⎢0⎥  ⎢0⎥  ⎢1⎥  ⎢1⎥  ⎢1⎥  ⎢1⎥  ⎢0⎥  ⎢0⎥  ⎢0⎥  ⎢0⎥  ⎢1⎥  ⎢1⎥  ⎢1⎥  ⎢1\n",
       "⎢⎢ ⎥  ⎢ ⎥  ⎢ ⎥  ⎢ ⎥  ⎢ ⎥  ⎢ ⎥  ⎢ ⎥  ⎢ ⎥  ⎢ ⎥  ⎢ ⎥  ⎢ ⎥  ⎢ ⎥  ⎢ ⎥  ⎢ ⎥  ⎢ ⎥  ⎢ \n",
       "⎢⎢0⎥  ⎢0⎥  ⎢1⎥  ⎢1⎥  ⎢0⎥  ⎢0⎥  ⎢1⎥  ⎢1⎥  ⎢0⎥  ⎢0⎥  ⎢1⎥  ⎢1⎥  ⎢0⎥  ⎢0⎥  ⎢1⎥  ⎢1\n",
       "⎢⎢ ⎥  ⎢ ⎥  ⎢ ⎥  ⎢ ⎥  ⎢ ⎥  ⎢ ⎥  ⎢ ⎥  ⎢ ⎥  ⎢ ⎥  ⎢ ⎥  ⎢ ⎥  ⎢ ⎥  ⎢ ⎥  ⎢ ⎥  ⎢ ⎥  ⎢ \n",
       "⎣⎣0⎦  ⎣1⎦  ⎣0⎦  ⎣1⎦  ⎣0⎦  ⎣1⎦  ⎣0⎦  ⎣1⎦  ⎣0⎦  ⎣1⎦  ⎣0⎦  ⎣1⎦  ⎣0⎦  ⎣1⎦  ⎣0⎦  ⎣1\n",
       "\n",
       "⎤⎤\n",
       "⎥⎥\n",
       "⎥⎥\n",
       "⎥⎥\n",
       "⎥⎥\n",
       "⎥⎥\n",
       "⎥⎥\n",
       "⎥⎥\n",
       "⎥⎥\n",
       "⎥⎥\n",
       "⎥⎥\n",
       "⎥⎥\n",
       "⎦⎦"
      ]
     },
     "execution_count": 42,
     "metadata": {},
     "output_type": "execute_result"
    }
   ],
   "source": [
    "codebook = [a*ns[0]+b*ns[1]+c*ns[2]+d*ns[3] for a, b, c, d in itertools.product([0,1], repeat=4)]\n",
    "codebook =  [c.applyfunc(lambda i: i%2) for c in codebook]\n",
    "codebook"
   ]
  },
  {
   "cell_type": "code",
   "execution_count": 45,
   "metadata": {
    "collapsed": false
   },
   "outputs": [
    {
     "data": {
      "image/png": "[encoded data removed]",
      "text/latex": [
       "$$\\left[\\begin{matrix}2\\\\2\\\\2\\end{matrix}\\right]$$"
      ],
      "text/plain": [
       "⎡2⎤\n",
       "⎢ ⎥\n",
       "⎢2⎥\n",
       "⎢ ⎥\n",
       "⎣2⎦"
      ]
     },
     "execution_count": 45,
     "metadata": {},
     "output_type": "execute_result"
    }
   ],
   "source": [
    "H*codebook[14]"
   ]
  },
  {
   "cell_type": "code",
   "execution_count": 34,
   "metadata": {
    "collapsed": false
   },
   "outputs": [
    {
     "data": {
      "image/png": "[encoded data removed]",
      "text/latex": [
       "$$\\left ( \\left[\\begin{matrix}1 & 0 & 1 & 0 & 1 & 0 & 1\\\\0 & 1 & 1 & 0 & 0 & 1 & 1\\\\0 & 0 & 0 & 1 & 1 & 1 & 1\\end{matrix}\\right], \\quad \\left [ 0, \\quad 1, \\quad 3\\right ]\\right )$$"
      ],
      "text/plain": [
       "⎛⎡1  0  1  0  1  0  1⎤, [0, 1, 3]⎞\n",
       "⎜⎢                   ⎥           ⎟\n",
       "⎜⎢0  1  1  0  0  1  1⎥           ⎟\n",
       "⎜⎢                   ⎥           ⎟\n",
       "⎝⎣0  0  0  1  1  1  1⎦           ⎠"
      ]
     },
     "execution_count": 34,
     "metadata": {},
     "output_type": "execute_result"
    }
   ],
   "source": [
    "H.rref()"
   ]
  },
  {
   "cell_type": "code",
   "execution_count": 24,
   "metadata": {
    "collapsed": false
   },
   "outputs": [
    {
     "data": {
      "image/png": "[encoded data removed]",
      "text/latex": [
       "$$\\left[\\begin{array}{c}x_{0, 0}\\\\x_{1, 0}\\\\x_{2, 0}\\\\x_{3, 0}\\\\x_{4, 0}\\\\x_{5, 0}\\\\x_{6, 0}\\end{array}\\right]$$"
      ],
      "text/plain": [
       "⎡x₀₀⎤\n",
       "⎢   ⎥\n",
       "⎢x₁₀⎥\n",
       "⎢   ⎥\n",
       "⎢x₂₀⎥\n",
       "⎢   ⎥\n",
       "⎢x₃₀⎥\n",
       "⎢   ⎥\n",
       "⎢x₄₀⎥\n",
       "⎢   ⎥\n",
       "⎢x₅₀⎥\n",
       "⎢   ⎥\n",
       "⎣x₆₀⎦"
      ]
     },
     "execution_count": 24,
     "metadata": {},
     "output_type": "execute_result"
    }
   ],
   "source": [
    "x = Matrix(MatrixSymbol('x', 7,1))\n",
    "x"
   ]
  },
  {
   "cell_type": "code",
   "execution_count": 25,
   "metadata": {
    "collapsed": false
   },
   "outputs": [
    {
     "data": {
      "image/png": "[encoded data removed]",
      "text/latex": [
       "$$\\left[\\begin{matrix}x_{3, 0} + x_{4, 0} + x_{5, 0} + x_{6, 0}\\\\x_{1, 0} + x_{2, 0} + x_{5, 0} + x_{6, 0}\\\\x_{0, 0} + x_{2, 0} + x_{4, 0} + x_{6, 0}\\end{matrix}\\right]$$"
      ],
      "text/plain": [
       "⎡x₃₀ + x₄₀ + x₅₀ + x₆₀⎤\n",
       "⎢                     ⎥\n",
       "⎢x₁₀ + x₂₀ + x₅₀ + x₆₀⎥\n",
       "⎢                     ⎥\n",
       "⎣x₀₀ + x₂₀ + x₄₀ + x₆₀⎦"
      ]
     },
     "execution_count": 25,
     "metadata": {},
     "output_type": "execute_result"
    }
   ],
   "source": [
    "H*x"
   ]
  },
  {
   "cell_type": "code",
   "execution_count": 27,
   "metadata": {
    "collapsed": false
   },
   "outputs": [
    {
     "data": {
      "image/png": "[encoded data removed]",
      "text/latex": [
       "$$\\mathrm{False}$$"
      ],
      "text/plain": [
       "False"
      ]
     },
     "execution_count": 27,
     "metadata": {},
     "output_type": "execute_result"
    }
   ],
   "source": [
    "solve(Eq(H*x, zeros(7,1)))"
   ]
  },
  {
   "cell_type": "code",
   "execution_count": null,
   "metadata": {
    "collapsed": true
   },
   "outputs": [],
   "source": []
  }
 ],
 "metadata": {
  "kernelspec": {
   "display_name": "Python 3",
   "language": "python",
   "name": "python3"
  },
  "language_info": {
   "codemirror_mode": {
    "name": "ipython",
    "version": 3
   },
   "file_extension": ".py",
   "mimetype": "text/x-python",
   "name": "python",
   "nbconvert_exporter": "python",
   "pygments_lexer": "ipython3",
   "version": "3.5.2"
  }
 },
 "nbformat": 4,
 "nbformat_minor": 0
}
